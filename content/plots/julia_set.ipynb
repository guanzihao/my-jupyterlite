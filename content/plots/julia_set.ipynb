{
  "cells": [
    {
      "cell_type": "markdown",
      "metadata": {},
      "source": [
        "# Realtime Julia Set\n",
        "\n",
        "ジュリア集合をリアタイムで描画するデモです。Run Allを実行後、マウスを画像の上の移動させると、マウスの座標に対応するジュリア集合をリアタイムで描画します。このデモでは、WASMで計算を速くさせます。"
      ]
    },
    {
      "cell_type": "code",
      "execution_count": 1,
      "metadata": {
        "trusted": true
      },
      "outputs": [],
      "source": [
        "import piplite\n",
        "await piplite.install(['ipycanvas', 'ipywidgets', 'ipyevents'])\n",
        "\n",
        "import sys\n",
        "if '.' not in sys.path:\n",
        "    sys.path.append('.')\n",
        "    \n",
        "import cffi"
      ]
    },
    {
      "cell_type": "code",
      "execution_count": 2,
      "metadata": {
        "trusted": true
      },
      "outputs": [
        {
          "data": {
            "application/vnd.jupyter.widget-view+json": {
              "model_id": "41a6e657197d44c9b81bd81595c31d9b",
              "version_major": 2,
              "version_minor": 0
            },
            "text/plain": [
              "Canvas(height=400, width=400)"
            ]
          },
          "metadata": {},
          "output_type": "display_data"
        },
        {
          "data": {},
          "execution_count": 2,
          "metadata": {},
          "output_type": "execute_result"
        }
      ],
      "source": [
        "from julia_set import JuliaPlot\n",
        "julia = JuliaPlot(cmap='viridis', resolution=400)\n",
        "julia.canvas"
      ]
    }
  ],
  "metadata": {
    "kernelspec": {
      "display_name": "Python 3.10.4",
      "language": "python",
      "name": "python3"
    },
    "language_info": {
      "codemirror_mode": {
        "name": "python",
        "version": 3
      },
      "file_extension": ".py",
      "mimetype": "text/x-python",
      "name": "python",
      "nbconvert_exporter": "python",
      "pygments_lexer": "ipython3",
      "version": "3.10.4"
    },
    "vscode": {
      "interpreter": {
        "hash": "b0dd2ac3bff73304043c93e21b5379bde3eddc0568fac62ee8a602cebc6deb6a"
      }
    }
  },
  "nbformat": 4,
  "nbformat_minor": 4
}
