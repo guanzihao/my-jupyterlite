{
  "metadata": {
    "language_info": {
      "codemirror_mode": {
        "name": "python",
        "version": 3
      },
      "file_extension": ".py",
      "mimetype": "text/x-python",
      "name": "python",
      "nbconvert_exporter": "python",
      "pygments_lexer": "ipython3",
      "version": "3.8"
    },
    "kernelspec": {
      "name": "python",
      "display_name": "Python (Pyodide)",
      "language": "python"
    }
  },
  "nbformat_minor": 4,
  "nbformat": 4,
  "cells": [
    {
      "cell_type": "code",
      "source": "import piplite\nawait piplite.install(['ipycanvas==0.10.2', 'ipywidgets==7.7.1', 'ipyevents'])\n\nimport sys\nif '.' not in sys.path:\n    sys.path.append('.')",
      "metadata": {
        "trusted": true
      },
      "execution_count": 137,
      "outputs": []
    },
    {
      "cell_type": "code",
      "source": "from lsystem import LSystemGUI\ngui = LSystemGUI()\ngui.layout",
      "metadata": {
        "trusted": true
      },
      "execution_count": 138,
      "outputs": [
        {
          "output_type": "display_data",
          "data": {
            "text/plain": "HBox(children=(VBox(children=(Dropdown(layout=Layout(width='200px'), options=('Koch', 'Dragon', 'Triangle', 'P…",
            "application/vnd.jupyter.widget-view+json": {
              "version_major": 2,
              "version_minor": 0,
              "model_id": "518cebb4ca574c688cb66a15496514e3"
            }
          },
          "metadata": {}
        },
        {
          "execution_count": 138,
          "output_type": "execute_result",
          "data": {},
          "metadata": {}
        }
      ]
    }
  ]
}