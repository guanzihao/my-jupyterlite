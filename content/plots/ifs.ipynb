{
  "metadata": {
    "kernelspec": {
      "name": "python",
      "display_name": "Python (Pyodide)",
      "language": "python"
    },
    "language_info": {
      "codemirror_mode": {
        "name": "python",
        "version": 3
      },
      "file_extension": ".py",
      "mimetype": "text/x-python",
      "name": "python",
      "nbconvert_exporter": "python",
      "pygments_lexer": "ipython3",
      "version": "3.8"
    }
  },
  "nbformat_minor": 5,
  "nbformat": 4,
  "cells": [
    {
      "cell_type": "markdown",
      "source": "# Iterated function system\n\nYou draw triangles, the code draws fractal image.\n\n* Ctrl + Left Click: add a new point\n* Backspace: remove the last point\n* Left Drag and Drop: move a point\n* Shift + Left Click: start moving all points, click again to finish the move",
      "metadata": {},
      "id": "02a0e2ac-452b-4c2d-8d96-4a4d74777533"
    },
    {
      "cell_type": "code",
      "source": "import piplite\nawait piplite.install(['ipycanvas==0.10.2', 'ipywidgets==7.7.1', 'ipyevents'])\n\nimport sys\nif '.' not in sys.path:\n    sys.path.append('.')\n    \nimport cffi",
      "metadata": {
        "trusted": true
      },
      "execution_count": 7,
      "outputs": [],
      "id": "70b40ccc-4e6d-403a-9401-8d9f6527eb85"
    },
    {
      "cell_type": "code",
      "source": "from ifs import IFS\ngui = IFS()\ngui.layout",
      "metadata": {
        "trusted": true
      },
      "execution_count": 15,
      "outputs": [
        {
          "output_type": "display_data",
          "data": {
            "text/plain": "VBox(children=(HBox(children=(Dropdown(layout=Layout(width='120px'), options=('光芒四射', '蕨类植物', '旋涡', '隧道', '杂草'…",
            "application/vnd.jupyter.widget-view+json": {
              "version_major": 2,
              "version_minor": 0,
              "model_id": "27b1ea2f99c04b57b8cade2aafa9229d"
            }
          },
          "metadata": {}
        },
        {
          "execution_count": 15,
          "output_type": "execute_result",
          "data": {},
          "metadata": {}
        }
      ],
      "id": "1683f159-e706-4059-bba0-4b03cf22fd9d"
    }
  ]
}