{
  "cells": [
    {
      "attachments": {},
      "cell_type": "markdown",
      "id": "02a0e2ac-452b-4c2d-8d96-4a4d74777533",
      "metadata": {},
      "source": [
        "# Iterated function system\n",
        "\n",
        "You draw triangles, the code draws fractal image.\n",
        "\n",
        "* Ctrl + Left Click: add a new point\n",
        "* Backspace: remove the last point\n",
        "* Left Drag and Drop: move a point\n",
        "* Shift + Left Click: start moving all points, click again to finish the move"
      ]
    },
    {
      "cell_type": "code",
      "execution_count": null,
      "id": "70b40ccc-4e6d-403a-9401-8d9f6527eb85",
      "metadata": {
        "trusted": true
      },
      "outputs": [],
      "source": [
        "import piplite\n",
        "await piplite.install(['ipycanvas', 'ipywidgets', 'ipyevents', 'matplotlib'])\n",
        "\n",
        "import sys\n",
        "if '.' not in sys.path:\n",
        "    sys.path.append('.')\n",
        "    \n",
        "import cffi"
      ]
    },
    {
      "cell_type": "code",
      "execution_count": null,
      "id": "1683f159-e706-4059-bba0-4b03cf22fd9d",
      "metadata": {
        "trusted": true
      },
      "outputs": [],
      "source": [
        "from ifs import IFS\n",
        "gui = IFS()\n",
        "gui.layout"
      ]
    }
  ],
  "metadata": {
    "kernelspec": {
      "display_name": "Python (Pyodide)",
      "language": "python",
      "name": "python"
    },
    "language_info": {
      "codemirror_mode": {
        "name": "python",
        "version": 3
      },
      "file_extension": ".py",
      "mimetype": "text/x-python",
      "name": "python",
      "nbconvert_exporter": "python",
      "pygments_lexer": "ipython3",
      "version": "3.8"
    }
  },
  "nbformat": 4,
  "nbformat_minor": 5
}
