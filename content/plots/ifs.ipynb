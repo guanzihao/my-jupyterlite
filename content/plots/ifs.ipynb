{
  "cells": [
    {
      "cell_type": "markdown",
      "id": "02a0e2ac-452b-4c2d-8d96-4a4d74777533",
      "metadata": {},
      "source": [
        "# Iterated function system\n",
        "\n",
        "You draw triangles, the code draws fractal image.\n",
        "\n",
        "* Ctrl + Left Click: add a new point\n",
        "* Backspace: remove the last point\n",
        "* Left Drag and Drop: move a point\n",
        "* Shift + Left Click: start moving all points, click again to finish the move"
      ]
    },
    {
      "cell_type": "code",
      "execution_count": 7,
      "id": "70b40ccc-4e6d-403a-9401-8d9f6527eb85",
      "metadata": {
        "trusted": true
      },
      "outputs": [],
      "source": [
        "import piplite\n",
        "await piplite.install(['ipycanvas', 'ipywidgets', 'ipyevents'])\n",
        "\n",
        "import sys\n",
        "if '.' not in sys.path:\n",
        "    sys.path.append('.')\n",
        "    \n",
        "import cffi"
      ]
    },
    {
      "cell_type": "code",
      "execution_count": 15,
      "id": "1683f159-e706-4059-bba0-4b03cf22fd9d",
      "metadata": {
        "trusted": true
      },
      "outputs": [
        {
          "data": {
            "application/vnd.jupyter.widget-view+json": {
              "model_id": "27b1ea2f99c04b57b8cade2aafa9229d",
              "version_major": 2,
              "version_minor": 0
            },
            "text/plain": [
              "VBox(children=(HBox(children=(Dropdown(layout=Layout(width='120px'), options=('光芒四射', '蕨类植物', '旋涡', '隧道', '杂草'…"
            ]
          },
          "metadata": {},
          "output_type": "display_data"
        },
        {
          "data": {},
          "execution_count": 15,
          "metadata": {},
          "output_type": "execute_result"
        }
      ],
      "source": [
        "from ifs import IFS\n",
        "gui = IFS()\n",
        "gui.layout"
      ]
    }
  ],
  "metadata": {
    "kernelspec": {
      "display_name": "Python (Pyodide)",
      "language": "python",
      "name": "python"
    },
    "language_info": {
      "codemirror_mode": {
        "name": "python",
        "version": 3
      },
      "file_extension": ".py",
      "mimetype": "text/x-python",
      "name": "python",
      "nbconvert_exporter": "python",
      "pygments_lexer": "ipython3",
      "version": "3.8"
    }
  },
  "nbformat": 4,
  "nbformat_minor": 5
}
