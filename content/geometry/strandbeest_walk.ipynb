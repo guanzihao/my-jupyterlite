{
  "metadata": {
    "kernelspec": {
      "name": "python",
      "display_name": "Python (Pyodide)",
      "language": "python"
    },
    "language_info": {
      "codemirror_mode": {
        "name": "python",
        "version": 3
      },
      "file_extension": ".py",
      "mimetype": "text/x-python",
      "name": "python",
      "nbconvert_exporter": "python",
      "pygments_lexer": "ipython3",
      "version": "3.8"
    }
  },
  "nbformat_minor": 5,
  "nbformat": 4,
  "cells": [
    {
      "cell_type": "markdown",
      "source": "# Strandbeest Walk\n\nhttps://www.geogebra.org/m/ZrfP4xU3#material/xdnnbGZG",
      "metadata": {},
      "id": "174f45bd-c0f2-4736-a2af-d50f555d7ce2"
    },
    {
      "cell_type": "code",
      "source": "import piplite\nawait piplite.install(['ipycanvas'])\n\nimport sys\nif '.' not in sys.path:\n    sys.path.append('.')",
      "metadata": {
        "trusted": true
      },
      "execution_count": null,
      "outputs": [],
      "id": "fee7e44e-91a2-45c3-8116-b90862eddaeb"
    },
    {
      "cell_type": "code",
      "source": "import asyncio\nimport cffi\nimport numpy as np\nimport ipycanvas\nimport math\nimport python_solvespace\nfrom ipycanvas import Canvas\nimport geometry_script as gs\nfrom bokeh.io import output_notebook\noutput_notebook()",
      "metadata": {
        "trusted": true
      },
      "execution_count": null,
      "outputs": [],
      "id": "bff3e622-6653-4ebd-8f8c-75264ca1fb2b"
    },
    {
      "cell_type": "code",
      "source": "%%gscript -h\nZ=0!,0!\nA=0.0!,7.8!\nB=0!,-7.2!\nC=38.0!,0.0!\nI=-38.0!,0.0!\nD=21.348971544160083,38.01306685026623\nE=73.60565991011022,18.445784948479975\nF=55.11470893245768,-35.37763047685999\nG=87.63658723792312,-18.371236635586733\nH=70.67056317652097,-81.84283680091993\nJ=-21.34897154416008,38.013066850266235\nK=-73.60565991011022,18.44578494847999\nL=-55.11470893245768,-35.37763047685999\nM=-87.63658723792307,-18.371236635586705\nN=-70.67056317652099,-81.84283680091991\nAB\nAZ\nIJ=41.50\nCD=IJ\nCF=39.30\nIL=CF\nCE=40.10\nIK=CE\nED=55.80\nKJ=ED\nGE=39.40\nMK=GE\nGF=36.70\nML=GF\nHG=65.70\nNM=HG\nHF=49.00\nNL=HF\nBD=50.00\nBJ=BD\nBF=61.90\nBL=BF",
      "metadata": {
        "trusted": true
      },
      "execution_count": null,
      "outputs": [],
      "id": "17f1a440-1007-4046-979e-14b5b10ba5a2"
    },
    {
      "cell_type": "code",
      "source": "width, height = 300, 300\nscale = 1.4\ncanvas = Canvas(width=width, height=height)\n\ndef update_canvas(fig, canvas):\n    data = fig.source_line.data\n    segments = np.dstack((data['xs'], data['ys']))\n    with ipycanvas.hold_canvas(canvas):\n        canvas.reset_transform()\n        canvas.clear()\n        canvas.fill_style = '#000000'\n        canvas.stroke_style = '#000000'\n        canvas.translate(width/2, height/2)\n        canvas.scale(scale, -scale)\n        canvas.stroke_line_segments(segments)\n        data = fig.source_points.data\n        canvas.fill_circles(data['x'], data['y'], 2)\n\nasync def animate():\n    angle = 0\n    xc, yc = g.get_position('A')\n    length = 14.8    \n    while True:\n        a = np.deg2rad(angle)\n        dx = length * math.cos(a)\n        dy = length * math.sin(a)\n        g.set_param('B', [xc + dx, yc + dy])\n        g.sys.solve()\n        g.update()\n        update_canvas(g.fig, canvas)\n        angle += 6\n        await asyncio.sleep(0.03)\n\ntask = asyncio.create_task(animate())\ncanvas",
      "metadata": {
        "trusted": true
      },
      "execution_count": null,
      "outputs": [],
      "id": "cfab64e8-d069-4cb4-a492-ed8891e7ceb8"
    },
    {
      "cell_type": "markdown",
      "source": "Run the following cell to stop the animation.",
      "metadata": {},
      "id": "1507b443-2074-465a-a957-2187b8a3444a"
    },
    {
      "cell_type": "code",
      "source": "task.cancel()",
      "metadata": {
        "trusted": true
      },
      "execution_count": null,
      "outputs": [],
      "id": "8a21502f-fb88-4233-9958-dc14b7a29513"
    },
    {
      "cell_type": "code",
      "source": "",
      "metadata": {},
      "execution_count": null,
      "outputs": [],
      "id": "ec368a73-9340-45e1-a451-6f05c574b97c"
    }
  ]
}