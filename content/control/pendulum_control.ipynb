{
  "metadata": {
    "kernelspec": {
      "name": "python",
      "display_name": "Python (Pyodide)",
      "language": "python"
    },
    "language_info": {
      "codemirror_mode": {
        "name": "python",
        "version": 3
      },
      "file_extension": ".py",
      "mimetype": "text/x-python",
      "name": "python",
      "nbconvert_exporter": "python",
      "pygments_lexer": "ipython3",
      "version": "3.8"
    }
  },
  "nbformat_minor": 5,
  "nbformat": 4,
  "cells": [
    {
      "cell_type": "markdown",
      "source": "# N-pendulum Control\n\nhttps://github.com/sympy/scipy-2016-tutorial/blob/master/applications/n-pendulum-control.ipynb",
      "metadata": {},
      "id": "5e7b57c1-9052-4688-88f4-ca69b79c427a"
    },
    {
      "cell_type": "code",
      "source": "import piplite\nawait piplite.install(['ipywidgets', 'ipycanvas', 'ipyevents'])",
      "metadata": {
        "trusted": true
      },
      "execution_count": 1,
      "outputs": [],
      "id": "47ff2e57-625d-437b-9d15-12aa63bd3a55"
    },
    {
      "cell_type": "code",
      "source": "import sys\nif '.' not in sys.path:\n    sys.path.append('.')",
      "metadata": {
        "trusted": true
      },
      "execution_count": 2,
      "outputs": [],
      "id": "e131c1ec-42cf-4375-9889-a138018cec3e"
    },
    {
      "cell_type": "code",
      "source": "import sympy\nimport scipy\nimport numpy as np\nfrom pendulum_control import Pendulum, PendulumAnimation",
      "metadata": {
        "trusted": true
      },
      "execution_count": 3,
      "outputs": [],
      "id": "82e6954c-35af-44a8-8fd0-78d89e3f2b1b"
    },
    {
      "cell_type": "markdown",
      "source": "* `x0` is the init status, here we set the angles of every segments to -3°, 2°, 5°\n* Click init button will change the init angles randomly\n* Click the canvas to set the target location of the block ",
      "metadata": {},
      "id": "07becdcd-9c75-4cb9-b878-b07946e28364"
    },
    {
      "cell_type": "code",
      "source": "n = 3\np = Pendulum(n)\nparameters = [9.81, 0.005] + [0.5, 0.005] * n \nx0 = np.r_[0, np.deg2rad([-3, 2, 5]) + np.pi / 2, [0] * (n + 1)]\nani = PendulumAnimation(p, x0, parameters)\nani.layout",
      "metadata": {
        "trusted": true
      },
      "execution_count": 4,
      "outputs": [
        {
          "execution_count": 4,
          "output_type": "execute_result",
          "data": {
            "text/plain": "VBox(children=(HBox(children=(Button(description='Init', layout=Layout(width='50px'), style=ButtonStyle()), Bu…",
            "application/vnd.jupyter.widget-view+json": {
              "version_major": 2,
              "version_minor": 0,
              "model_id": "f1bfc981abf54421a2f8c848ec4bced1"
            }
          },
          "metadata": {}
        }
      ],
      "id": "d770aaf1-6d67-4918-b925-3193d8bbdc4b"
    }
  ]
}