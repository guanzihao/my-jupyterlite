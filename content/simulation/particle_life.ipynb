{
  "metadata": {
    "kernelspec": {
      "name": "python",
      "display_name": "Python (Pyodide)",
      "language": "python"
    },
    "language_info": {
      "codemirror_mode": {
        "name": "python",
        "version": 3
      },
      "file_extension": ".py",
      "mimetype": "text/x-python",
      "name": "python",
      "nbconvert_exporter": "python",
      "pygments_lexer": "ipython3",
      "version": "3.8"
    },
    "vscode": {
      "interpreter": {
        "hash": "b0dd2ac3bff73304043c93e21b5379bde3eddc0568fac62ee8a602cebc6deb6a"
      }
    }
  },
  "nbformat_minor": 5,
  "nbformat": 4,
  "cells": [
    {
      "cell_type": "markdown",
      "source": "# Particle Life\n\nhttps://github.com/hunar4321/particle-life",
      "metadata": {},
      "id": "1169dec6-3a28-4030-8665-5e0a0010a1f5"
    },
    {
      "cell_type": "code",
      "source": "import piplite\nawait piplite.install(['ipycanvas==0.10.2', 'ipywidgets==7.7.1', 'ipyevents'])\nimport sys\nif '.' not in sys.path:\n    sys.path.append('.')\nimport cffi",
      "metadata": {
        "trusted": true
      },
      "execution_count": 1,
      "outputs": [],
      "id": "db3d9798-2cca-4600-9d3b-6e0254789721"
    },
    {
      "cell_type": "code",
      "source": "from particle_life import ParticleLife",
      "metadata": {
        "trusted": true
      },
      "execution_count": 2,
      "outputs": [],
      "id": "aafdf1a0-dd28-4638-b2dd-29c9313af1c8"
    },
    {
      "cell_type": "code",
      "source": "self = ParticleLife(width=400, height=400, N=3000)\nself.init()\ntask = self.start()\nself.layout",
      "metadata": {
        "trusted": true
      },
      "execution_count": 3,
      "outputs": [
        {
          "output_type": "display_data",
          "data": {
            "text/plain": "VBox(children=(HBox(children=(Button(description='Reset', style=ButtonStyle()), FloatSlider(value=0.3, descrip…",
            "application/vnd.jupyter.widget-view+json": {
              "version_major": 2,
              "version_minor": 0,
              "model_id": "aa4b18dbb7d64b7590c1716f94e3732f"
            }
          },
          "metadata": {}
        },
        {
          "execution_count": 3,
          "output_type": "execute_result",
          "data": {},
          "metadata": {}
        }
      ],
      "id": "ad7a5512-5458-446a-9ab5-5131e3387aff"
    }
  ]
}