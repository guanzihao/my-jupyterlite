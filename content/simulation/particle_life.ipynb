{
  "cells": [
    {
      "cell_type": "markdown",
      "id": "1169dec6-3a28-4030-8665-5e0a0010a1f5",
      "metadata": {},
      "source": [
        "# Particle Life\n",
        "\n",
        "https://github.com/hunar4321/particle-life"
      ]
    },
    {
      "cell_type": "code",
      "execution_count": 1,
      "id": "db3d9798-2cca-4600-9d3b-6e0254789721",
      "metadata": {
        "trusted": true
      },
      "outputs": [],
      "source": [
        "import piplite\n",
        "await piplite.install(['ipycanvas', 'ipywidgets', 'ipyevents'])\n",
        "import sys\n",
        "if '.' not in sys.path:\n",
        "    sys.path.append('.')\n",
        "import cffi"
      ]
    },
    {
      "cell_type": "code",
      "execution_count": 2,
      "id": "aafdf1a0-dd28-4638-b2dd-29c9313af1c8",
      "metadata": {
        "trusted": true
      },
      "outputs": [],
      "source": [
        "from particle_life import ParticleLife"
      ]
    },
    {
      "cell_type": "code",
      "execution_count": 3,
      "id": "ad7a5512-5458-446a-9ab5-5131e3387aff",
      "metadata": {
        "trusted": true
      },
      "outputs": [
        {
          "data": {
            "application/vnd.jupyter.widget-view+json": {
              "model_id": "aa4b18dbb7d64b7590c1716f94e3732f",
              "version_major": 2,
              "version_minor": 0
            },
            "text/plain": [
              "VBox(children=(HBox(children=(Button(description='Reset', style=ButtonStyle()), FloatSlider(value=0.3, descrip…"
            ]
          },
          "metadata": {},
          "output_type": "display_data"
        },
        {
          "data": {},
          "execution_count": 3,
          "metadata": {},
          "output_type": "execute_result"
        }
      ],
      "source": [
        "self = ParticleLife(width=400, height=400, N=3000)\n",
        "self.init()\n",
        "task = self.start()\n",
        "self.layout"
      ]
    }
  ],
  "metadata": {
    "kernelspec": {
      "display_name": "Python (Pyodide)",
      "language": "python",
      "name": "python"
    },
    "language_info": {
      "codemirror_mode": {
        "name": "python",
        "version": 3
      },
      "file_extension": ".py",
      "mimetype": "text/x-python",
      "name": "python",
      "nbconvert_exporter": "python",
      "pygments_lexer": "ipython3",
      "version": "3.8"
    },
    "vscode": {
      "interpreter": {
        "hash": "b0dd2ac3bff73304043c93e21b5379bde3eddc0568fac62ee8a602cebc6deb6a"
      }
    }
  },
  "nbformat": 4,
  "nbformat_minor": 5
}
