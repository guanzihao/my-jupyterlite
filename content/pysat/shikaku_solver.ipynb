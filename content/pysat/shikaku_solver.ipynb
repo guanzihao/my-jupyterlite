{
  "metadata": {
    "kernelspec": {
      "name": "python",
      "display_name": "Python (Pyodide)",
      "language": "python"
    },
    "language_info": {
      "codemirror_mode": {
        "name": "python",
        "version": 3
      },
      "file_extension": ".py",
      "mimetype": "text/x-python",
      "name": "python",
      "nbconvert_exporter": "python",
      "pygments_lexer": "ipython3",
      "version": "3.8"
    }
  },
  "nbformat_minor": 5,
  "nbformat": 4,
  "cells": [
    {
      "cell_type": "markdown",
      "source": "# 四角に切れパズル\n\n* 盤面を数字を1つずつ含む長方形（正方形を含む）に分割する。\n* 数字は1マスの面積を1とした長方形の面積になるようにする。\n\nhttps://www.puzzle-shikaku.com/\n\n* メニューRun下のRun All Cellsを実行する\n* ボードをダブルクリックする\n* 矢印キーでカーソルを移動させる\n* 数字キーでカーソルのセルの数字を設定する、ESCは数字をクリックする、SPACEキーで解を求める",
      "metadata": {},
      "id": "54265551-f1a5-48c3-8b2b-b42ada869efd"
    },
    {
      "cell_type": "code",
      "source": "import piplite\nawait piplite.install(['ipycanvas==0.10.2', 'ipywidgets==7.7.1', 'ipyevents', 'python-sat'])\n\nimport sys\nif '.' not in sys.path:\n    sys.path.append('.')",
      "metadata": {
        "trusted": true
      },
      "execution_count": 1,
      "outputs": [],
      "id": "c0ba5e3e-e41c-4f43-943b-74cf74a33109"
    },
    {
      "cell_type": "code",
      "source": "import ipywidgets as ipw\nfrom bs4 import BeautifulSoup\nfrom shikaku_solver import ShikakuGUI, load_board_from_html",
      "metadata": {
        "trusted": true
      },
      "execution_count": 2,
      "outputs": [],
      "id": "1e0c3df2-3db4-4b36-9ac1-0467009a81a7"
    },
    {
      "cell_type": "markdown",
      "source": "https://www.puzzle-shikaku.com/ のHTMLからロードする場合、下のCELLを実行して、HTMLをテキストエディタに貼り付けてください。",
      "metadata": {},
      "id": "4f498a9e-d893-405f-b567-a42f7cd5a5f6"
    },
    {
      "cell_type": "code",
      "source": "text_area = ipw.Textarea()\ntext_area",
      "metadata": {
        "trusted": true
      },
      "execution_count": 11,
      "outputs": [
        {
          "output_type": "display_data",
          "data": {
            "text/plain": "Textarea(value='')",
            "application/vnd.jupyter.widget-view+json": {
              "version_major": 2,
              "version_minor": 0,
              "model_id": "ef6fe5f9d56b4d2d9286a8d35a79465b"
            }
          },
          "metadata": {}
        },
        {
          "execution_count": 11,
          "output_type": "execute_result",
          "data": {},
          "metadata": {}
        }
      ],
      "id": "3211cbd3-a2f2-47b4-9744-58d7dbf64709"
    },
    {
      "cell_type": "markdown",
      "source": "サンプルをロードする場合は、次のCELLを実行してください。",
      "metadata": {},
      "id": "e9caceba-099f-4cbe-95dd-11d03a20e811"
    },
    {
      "cell_type": "code",
      "source": "with open('shikaku_sample.txt') as f:\n    text_area.value = f.read()",
      "metadata": {
        "trusted": true
      },
      "execution_count": 12,
      "outputs": [],
      "id": "55d25dfb-9c57-4d1a-8a9d-48f431042a37"
    },
    {
      "cell_type": "markdown",
      "source": "下のCELLを実行すると、解が表示されます。TextAreaの中身を変更して、もう一度実行することができます。",
      "metadata": {},
      "id": "e468e7e6-a3bc-4e47-bc4e-4cc95606521c"
    },
    {
      "cell_type": "code",
      "source": "board = load_board_from_html(text_area.value)\ngui = ShikakuGUI(board)\ngui.solve()\ngui.canvas",
      "metadata": {
        "trusted": true
      },
      "execution_count": 13,
      "outputs": [
        {
          "output_type": "display_data",
          "data": {
            "text/plain": "Canvas(height=402, width=402)",
            "application/vnd.jupyter.widget-view+json": {
              "version_major": 2,
              "version_minor": 0,
              "model_id": "6b9f835e750c4373a95360bef35b8251"
            }
          },
          "metadata": {}
        },
        {
          "execution_count": 13,
          "output_type": "execute_result",
          "data": {},
          "metadata": {}
        }
      ],
      "id": "e5d7b2bc-65ea-4f22-b50f-a6269b774a38"
    },
    {
      "cell_type": "markdown",
      "source": "手動で数字を入力する場合、次のCELで横と縦の幅を修正し、実行してください。",
      "metadata": {},
      "id": "ba4cbea2-2a49-48af-9bab-d0084ae50cfa"
    },
    {
      "cell_type": "code",
      "source": "gui = ShikakuGUI(width=10, height=10)\ngui.canvas",
      "metadata": {
        "trusted": true
      },
      "execution_count": 5,
      "outputs": [
        {
          "output_type": "display_data",
          "data": {
            "text/plain": "Canvas(height=202, width=202)",
            "application/vnd.jupyter.widget-view+json": {
              "version_major": 2,
              "version_minor": 0,
              "model_id": "dfd165d662404b858a9843451c8ae73d"
            }
          },
          "metadata": {}
        },
        {
          "execution_count": 5,
          "output_type": "execute_result",
          "data": {},
          "metadata": {}
        }
      ],
      "id": "d6a16846-3434-42f2-9129-883973856bc9"
    }
  ]
}