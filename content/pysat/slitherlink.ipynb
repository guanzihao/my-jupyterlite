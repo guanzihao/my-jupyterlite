{
  "metadata": {
    "kernelspec": {
      "name": "python",
      "display_name": "Python (Pyodide)",
      "language": "python"
    },
    "language_info": {
      "codemirror_mode": {
        "name": "python",
        "version": 3
      },
      "file_extension": ".py",
      "mimetype": "text/x-python",
      "name": "python",
      "nbconvert_exporter": "python",
      "pygments_lexer": "ipython3",
      "version": "3.8"
    },
    "vscode": {
      "interpreter": {
        "hash": "b0dd2ac3bff73304043c93e21b5379bde3eddc0568fac62ee8a602cebc6deb6a"
      }
    }
  },
  "nbformat_minor": 4,
  "nbformat": 4,
  "cells": [
    {
      "cell_type": "markdown",
      "source": "# SlitherLink Solver\n\ncopy the HTML source code of the board(div#game) from the site, ane paste it into the textarea widget, and click the solve button.\n\nhttps://www.puzzle-loop.com",
      "metadata": {}
    },
    {
      "cell_type": "code",
      "source": "import piplite\nawait piplite.install(['ipycanvas==0.10.2', 'ipywidgets==7.7.1', 'ipyevents', 'python-sat'])\n\nimport sys\nif '.' not in sys.path:\n    sys.path.append('.')",
      "metadata": {
        "trusted": true
      },
      "execution_count": 1,
      "outputs": []
    },
    {
      "cell_type": "code",
      "source": "import bs4\nimport importlib \nimport slitherlink\nimportlib.reload(slitherlink)\nfrom slitherlink import SlitherLinkSGUI",
      "metadata": {
        "trusted": true
      },
      "execution_count": 3,
      "outputs": []
    },
    {
      "cell_type": "code",
      "source": "board = '''\n...12.33..\n.311302..2\n.3.1...22.\n.2.22.2...\n...2232..2\n.2..1.1.2.\n....1.....\n2..21..31.\n.3220313..\n.22.....1.\n'''\ngui = SlitherLinkSGUI()\ngui.html_textarea.value = board.strip()\ngui.layout",
      "metadata": {
        "trusted": true
      },
      "execution_count": 6,
      "outputs": [
        {
          "output_type": "display_data",
          "data": {
            "text/plain": "HBox(children=(VBox(children=(Textarea(value='...12.33..\\n.311302..2\\n.3.1...22.\\n.2.22.2...\\n...2232..2\\n.2..…",
            "application/vnd.jupyter.widget-view+json": {
              "version_major": 2,
              "version_minor": 0,
              "model_id": "dedfc9caaf8341beabd484ed4e12183c"
            }
          },
          "metadata": {}
        },
        {
          "execution_count": 6,
          "output_type": "execute_result",
          "data": {},
          "metadata": {}
        }
      ]
    }
  ]
}