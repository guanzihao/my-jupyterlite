{
  "cells": [
    {
      "cell_type": "markdown",
      "id": "a0db6b8d-a15e-4e55-ab0e-08395c84b1c4",
      "metadata": {},
      "source": [
        "# ナンバーリンク\n",
        "\n",
        "ナンバーリンクは、盤面にある同じ数字同士を線でつなぐペンシルパズルである。\n",
        "\n",
        "https://puzzlemadness.co.uk/numberlink/mixed/2022/8/22"
      ]
    },
    {
      "cell_type": "code",
      "execution_count": 1,
      "id": "9bdaf419-ab9d-40cb-82aa-0580951fbce3",
      "metadata": {
        "trusted": true
      },
      "outputs": [],
      "source": [
        "import piplite\n",
        "await piplite.install(['ipycanvas', 'ipywidgets', 'ipyevents', 'python-sat'])\n",
        "\n",
        "import sys\n",
        "if '.' not in sys.path:\n",
        "    sys.path.append('.')"
      ]
    },
    {
      "cell_type": "code",
      "execution_count": 8,
      "id": "b8363d76-5a1c-4d84-b9fc-bce75548479b",
      "metadata": {
        "trusted": true
      },
      "outputs": [],
      "source": [
        "import numpy as np\n",
        "from number_link import NumberLinkGUI"
      ]
    },
    {
      "cell_type": "markdown",
      "id": "9c68c9a4-b6e4-497c-95fb-fc9c5da3d050",
      "metadata": {},
      "source": [
        "To solve the puzzles on https://puzzlemadness.co.uk/archive/numberlink/mixed\n",
        "\n",
        "* Open a puzzle page\n",
        "* Press Ctrl+U to view the HTML source code.\n",
        "* Copy the `puzzledata = ...` line to following cell, and run it."
      ]
    },
    {
      "cell_type": "code",
      "execution_count": 10,
      "id": "39df4b68-10df-4bf5-a3f7-b6504575eead",
      "metadata": {
        "trusted": true
      },
      "outputs": [
        {
          "data": {
            "application/vnd.jupyter.widget-view+json": {
              "model_id": "3be414317be548e08deb3ac300229662",
              "version_major": 2,
              "version_minor": 0
            },
            "text/plain": [
              "Canvas(height=327, width=327)"
            ]
          },
          "metadata": {},
          "output_type": "display_data"
        },
        {
          "data": {},
          "execution_count": 10,
          "metadata": {},
          "output_type": "execute_result"
        }
      ],
      "source": [
        "puzzledata = {\"gridWidth\":13,\"gridHeight\":13,\"data\":{\"startingGrid\":[6,4,0,0,0,0,0,0,0,0,0,0,0,0,0,0,0,0,0,0,0,0,0,0,5,0,0,0,0,0,0,0,1,9,0,0,0,0,0,0,0,0,2,0,0,0,0,0,0,0,0,0,0,0,0,0,0,9,2,0,0,0,0,0,0,0,0,0,0,0,0,0,0,0,0,0,0,0,0,5,0,8,0,0,0,8,0,1,0,0,0,0,12,0,0,0,0,0,0,0,0,0,0,0,0,0,0,0,0,0,12,0,0,0,0,0,0,0,0,0,0,0,0,0,0,0,0,0,6,0,7,0,0,0,0,0,0,0,0,0,0,7,0,0,0,0,0,0,11,0,0,0,0,0,0,0,10,3,0,3,0,0,0,0,0,0,10,11,4]},\"source\":{\"year\":2022,\"month\":10,\"day\":15,\"variant\":0},\"baseURI\":\"numberlink\"};\n",
        "width = puzzledata['gridWidth']\n",
        "height = puzzledata['gridHeight']\n",
        "board = np.array(puzzledata['data']['startingGrid']).reshape(height, width)\n",
        "gui = NumberLinkGUI(board)\n",
        "gui.solve()\n",
        "gui.canvas"
      ]
    },
    {
      "cell_type": "markdown",
      "id": "ccad31c8-478c-4d1b-899f-9a6c11361dce",
      "metadata": {},
      "source": [
        "Define the puzzle by string:"
      ]
    },
    {
      "cell_type": "code",
      "execution_count": 5,
      "id": "d8022355-b27d-4fd9-a397-14868555a6ba",
      "metadata": {
        "trusted": true
      },
      "outputs": [
        {
          "data": {
            "application/vnd.jupyter.widget-view+json": {
              "model_id": "f88db802a6e445e18bf30e8f960c3362",
              "version_major": 2,
              "version_minor": 0
            },
            "text/plain": [
              "Canvas(height=252, width=252)"
            ]
          },
          "metadata": {},
          "output_type": "display_data"
        },
        {
          "data": {},
          "execution_count": 5,
          "metadata": {},
          "output_type": "execute_result"
        }
      ],
      "source": [
        "board_str = '''\n",
        "1000000000\n",
        "0000000050\n",
        "0601000000\n",
        "0000043000\n",
        "0000006050\n",
        "0803000000\n",
        "0004700000\n",
        "0000002080\n",
        "0700000000\n",
        "0000000002\n",
        "'''\n",
        "gui = NumberLinkGUI(board_str)\n",
        "gui.solve()\n",
        "gui.canvas"
      ]
    },
    {
      "cell_type": "markdown",
      "id": "d38c220c-f1b6-428f-87ec-94ebff6167ce",
      "metadata": {},
      "source": [
        "Create an empty puzzle\n",
        "\n",
        "* Double click the board to focus on it.\n",
        "* Move the cursor by arrow keys. \n",
        "* Use number keys to change the number of the current cell.\n",
        "* Press Space key to solve the puzzle."
      ]
    },
    {
      "cell_type": "code",
      "execution_count": 7,
      "id": "24fcffac-f09a-4a89-a6d0-e4073b02e12d",
      "metadata": {
        "trusted": true
      },
      "outputs": [
        {
          "data": {
            "application/vnd.jupyter.widget-view+json": {
              "model_id": "d3d187339b414871994304ca3f0f1f06",
              "version_major": 2,
              "version_minor": 0
            },
            "text/plain": [
              "Canvas(height=252, width=252)"
            ]
          },
          "metadata": {},
          "output_type": "display_data"
        },
        {
          "data": {},
          "execution_count": 7,
          "metadata": {},
          "output_type": "execute_result"
        }
      ],
      "source": [
        "gui = NumberLinkGUI(width=10, height=10)\n",
        "gui.canvas"
      ]
    }
  ],
  "metadata": {
    "kernelspec": {
      "display_name": "Python 3.10.4",
      "language": "python",
      "name": "python3"
    },
    "language_info": {
      "codemirror_mode": {
        "name": "python",
        "version": 3
      },
      "file_extension": ".py",
      "mimetype": "text/x-python",
      "name": "python",
      "nbconvert_exporter": "python",
      "pygments_lexer": "ipython3",
      "version": "3.10.4"
    },
    "vscode": {
      "interpreter": {
        "hash": "b0dd2ac3bff73304043c93e21b5379bde3eddc0568fac62ee8a602cebc6deb6a"
      }
    }
  },
  "nbformat": 4,
  "nbformat_minor": 5
}
