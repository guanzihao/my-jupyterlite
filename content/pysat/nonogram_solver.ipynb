{
  "metadata": {
    "language_info": {
      "codemirror_mode": {
        "name": "python",
        "version": 3
      },
      "file_extension": ".py",
      "mimetype": "text/x-python",
      "name": "python",
      "nbconvert_exporter": "python",
      "pygments_lexer": "ipython3",
      "version": "3.8"
    },
    "kernelspec": {
      "name": "python",
      "display_name": "Python (Pyodide)",
      "language": "python"
    }
  },
  "nbformat_minor": 4,
  "nbformat": 4,
  "cells": [
    {
      "cell_type": "markdown",
      "source": "### ノノグラムを解く\n\nノノグラムパズルは、縦と横の数字をヒントに塗り潰すマス目を割り出し、そのとおりに塗り潰していくと、最終的に絵が浮かび上がるタイプのペンシルパズル。\n\n* メニューRun下のRun All Cellsを実行する\n* https://www.nonograms.org/nonograms から白黒のパズルを開いて、Webブラウザの開発ツールで`table.nonogram_table`のOuter HTMLをコピーし、TextAreaに貼り付け\n* Solveボタンを押す",
      "metadata": {}
    },
    {
      "cell_type": "code",
      "source": "import piplite\nawait piplite.install(['python-sat', 'ipywidgets==7.7.1', 'ipycanvas==0.10.2'])\nimport sys\nsys.path.append('.')",
      "metadata": {
        "trusted": true
      },
      "execution_count": 9,
      "outputs": []
    },
    {
      "cell_type": "code",
      "source": "import bs4\nfrom nonogram_solver import NonogramGui\n\ngui = NonogramGui()\ngui.layout",
      "metadata": {
        "trusted": true
      },
      "execution_count": 10,
      "outputs": [
        {
          "output_type": "display_data",
          "data": {
            "text/plain": "VBox(children=(Textarea(value='<table class=\"nonogram_table\" id=\"nonogram_table\" oncontextmenu=\"fc1(event)\" on…",
            "application/vnd.jupyter.widget-view+json": {
              "version_major": 2,
              "version_minor": 0,
              "model_id": "56fa21587988476a96fc5079b3a94c6a"
            }
          },
          "metadata": {}
        },
        {
          "execution_count": 10,
          "output_type": "execute_result",
          "data": {},
          "metadata": {}
        }
      ]
    }
  ]
}