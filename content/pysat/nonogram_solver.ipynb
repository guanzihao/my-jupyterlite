{
  "cells": [
    {
      "cell_type": "markdown",
      "metadata": {},
      "source": [
        "### ノノグラムを解く\n",
        "\n",
        "ノノグラムパズルは、縦と横の数字をヒントに塗り潰すマス目を割り出し、そのとおりに塗り潰していくと、最終的に絵が浮かび上がるタイプのペンシルパズル。\n",
        "\n",
        "* メニューRun下のRun All Cellsを実行する\n",
        "* https://www.nonograms.org/nonograms から白黒のパズルを開いて、Webブラウザの開発ツールで`table.nonogram_table`のOuter HTMLをコピーし、TextAreaに貼り付け\n",
        "* Solveボタンを押す"
      ]
    },
    {
      "cell_type": "code",
      "execution_count": 9,
      "metadata": {
        "trusted": true
      },
      "outputs": [],
      "source": [
        "import piplite\n",
        "await piplite.install(['python-sat', 'ipywidgets', 'ipycanvas'])\n",
        "import sys\n",
        "sys.path.append('.')"
      ]
    },
    {
      "cell_type": "code",
      "execution_count": 10,
      "metadata": {
        "trusted": true
      },
      "outputs": [
        {
          "data": {
            "application/vnd.jupyter.widget-view+json": {
              "model_id": "56fa21587988476a96fc5079b3a94c6a",
              "version_major": 2,
              "version_minor": 0
            },
            "text/plain": [
              "VBox(children=(Textarea(value='<table class=\"nonogram_table\" id=\"nonogram_table\" oncontextmenu=\"fc1(event)\" on…"
            ]
          },
          "metadata": {},
          "output_type": "display_data"
        },
        {
          "data": {},
          "execution_count": 10,
          "metadata": {},
          "output_type": "execute_result"
        }
      ],
      "source": [
        "import bs4\n",
        "from nonogram_solver import NonogramGui\n",
        "\n",
        "gui = NonogramGui()\n",
        "gui.layout"
      ]
    }
  ],
  "metadata": {
    "kernelspec": {
      "display_name": "Python (Pyodide)",
      "language": "python",
      "name": "python"
    },
    "language_info": {
      "codemirror_mode": {
        "name": "python",
        "version": 3
      },
      "file_extension": ".py",
      "mimetype": "text/x-python",
      "name": "python",
      "nbconvert_exporter": "python",
      "pygments_lexer": "ipython3",
      "version": "3.8"
    }
  },
  "nbformat": 4,
  "nbformat_minor": 4
}
