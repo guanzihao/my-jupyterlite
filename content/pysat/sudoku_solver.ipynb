{
  "cells": [
    {
      "cell_type": "markdown",
      "metadata": {},
      "source": [
        "# 数独ソルバー\n",
        "\n",
        "* メニューRun下のRun All Cellsを実行する\n",
        "* 数独ボードをダブルクリックする\n",
        "* 矢印キーでカーソルを移動させる\n",
        "* 数字キーでカーソルのセルの数字を設定する、0は数字をクリックする"
      ]
    },
    {
      "cell_type": "code",
      "execution_count": null,
      "metadata": {
        "trusted": true
      },
      "outputs": [],
      "source": [
        "import piplite\n",
        "await piplite.install(['ipycanvas==0.10.2', 'ipywidgets==7.7.1', 'ipyevents', 'python-sat'])\n",
        "\n",
        "import sys\n",
        "if '.' not in sys.path:\n",
        "    sys.path.append('.')"
      ]
    },
    {
      "cell_type": "code",
      "execution_count": null,
      "metadata": {
        "trusted": true
      },
      "outputs": [],
      "source": [
        "from sudoku import SudokuCanvas\n",
        "board = SudokuCanvas()\n",
        "board.canvas"
      ]
    }
  ],
  "metadata": {
    "kernelspec": {
      "display_name": "Python (Pyodide)",
      "language": "python",
      "name": "python"
    },
    "language_info": {
      "codemirror_mode": {
        "name": "python",
        "version": 3
      },
      "file_extension": ".py",
      "mimetype": "text/x-python",
      "name": "python",
      "nbconvert_exporter": "python",
      "pygments_lexer": "ipython3",
      "version": "3.8"
    }
  },
  "nbformat": 4,
  "nbformat_minor": 4
}
