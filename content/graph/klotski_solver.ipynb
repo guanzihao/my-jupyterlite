{
  "metadata": {
    "language_info": {
      "codemirror_mode": {
        "name": "python",
        "version": 3
      },
      "file_extension": ".py",
      "mimetype": "text/x-python",
      "name": "python",
      "nbconvert_exporter": "python",
      "pygments_lexer": "ipython3",
      "version": "3.8"
    },
    "kernelspec": {
      "name": "python",
      "display_name": "Python (Pyodide)",
      "language": "python"
    }
  },
  "nbformat_minor": 4,
  "nbformat": 4,
  "cells": [
    {
      "cell_type": "markdown",
      "source": "# 箱入り娘(華容道)を解く\n\n* Run Allを実行後、Solveボタンを押す\n* Playボタンで、解を再生する\n* Pauseボタンで、再生を一時停止し、ボードをクリックしてから、右と左の矢印キーでステップ再生\n\n全部の状態を含むデータは`ABBBBCDDDD.pickle`に保存されています。このファイルを生成すためには、次のコードを実行してください。\n\n```python\nfrom klotski_solver import dump_graph\ndump_graph('ABBBBCDDDD')\n```",
      "metadata": {}
    },
    {
      "cell_type": "code",
      "source": "import piplite\nawait piplite.install(['ipycanvas==0.10.2', 'ipywidgets==7.7.1', 'ipyevents'])\n\nimport sys\nif '.' not in sys.path:\n    sys.path.append('.')",
      "metadata": {
        "trusted": true
      },
      "execution_count": 1,
      "outputs": []
    },
    {
      "cell_type": "code",
      "source": "import scipy\nfrom klotski_gui import KlotskiSolverGUI",
      "metadata": {
        "trusted": true
      },
      "execution_count": 2,
      "outputs": []
    },
    {
      "cell_type": "code",
      "source": "solver = KlotskiSolverGUI()\nsolver.layout",
      "metadata": {
        "trusted": true
      },
      "execution_count": 3,
      "outputs": [
        {
          "output_type": "display_data",
          "data": {
            "text/plain": "VBox(children=(HBox(children=(Button(description='Solve', style=ButtonStyle()), Button(description='Play', sty…",
            "application/vnd.jupyter.widget-view+json": {
              "version_major": 2,
              "version_minor": 0,
              "model_id": "1a5c5c6275e343cba0def9e1e6a2adbd"
            }
          },
          "metadata": {}
        },
        {
          "execution_count": 3,
          "output_type": "execute_result",
          "data": {},
          "metadata": {}
        }
      ]
    },
    {
      "cell_type": "code",
      "source": "",
      "metadata": {},
      "execution_count": null,
      "outputs": []
    }
  ]
}