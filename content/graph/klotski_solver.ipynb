{
  "cells": [
    {
      "cell_type": "markdown",
      "metadata": {},
      "source": [
        "# 箱入り娘(華容道)を解く\n",
        "\n",
        "* Run Allを実行後、Solveボタンを押す\n",
        "* Playボタンで、解を再生する\n",
        "* Pauseボタンで、再生を一時停止し、ボードをクリックしてから、右と左の矢印キーでステップ再生\n",
        "\n",
        "全部の状態を含むデータは`ABBBBCDDDD.pickle`に保存されています。このファイルを生成すためには、次のコードを実行してください。\n",
        "\n",
        "```python\n",
        "from klotski_solver import dump_graph\n",
        "dump_graph('ABBBBCDDDD')\n",
        "```"
      ]
    },
    {
      "cell_type": "code",
      "execution_count": 1,
      "metadata": {
        "trusted": true
      },
      "outputs": [],
      "source": [
        "import piplite\n",
        "await piplite.install(['ipycanvas', 'ipywidgets', 'ipyevents'])\n",
        "\n",
        "import sys\n",
        "if '.' not in sys.path:\n",
        "    sys.path.append('.')"
      ]
    },
    {
      "cell_type": "code",
      "execution_count": 2,
      "metadata": {
        "trusted": true
      },
      "outputs": [],
      "source": [
        "import scipy\n",
        "from klotski_gui import KlotskiSolverGUI"
      ]
    },
    {
      "cell_type": "code",
      "execution_count": 3,
      "metadata": {
        "trusted": true
      },
      "outputs": [
        {
          "data": {
            "application/vnd.jupyter.widget-view+json": {
              "model_id": "1a5c5c6275e343cba0def9e1e6a2adbd",
              "version_major": 2,
              "version_minor": 0
            },
            "text/plain": [
              "VBox(children=(HBox(children=(Button(description='Solve', style=ButtonStyle()), Button(description='Play', sty…"
            ]
          },
          "metadata": {},
          "output_type": "display_data"
        },
        {
          "data": {},
          "execution_count": 3,
          "metadata": {},
          "output_type": "execute_result"
        }
      ],
      "source": [
        "solver = KlotskiSolverGUI()\n",
        "solver.layout"
      ]
    },
    {
      "cell_type": "code",
      "execution_count": null,
      "metadata": {},
      "outputs": [],
      "source": []
    }
  ],
  "metadata": {
    "kernelspec": {
      "display_name": "Python 3.10.4",
      "language": "python",
      "name": "python3"
    },
    "language_info": {
      "codemirror_mode": {
        "name": "python",
        "version": 3
      },
      "file_extension": ".py",
      "mimetype": "text/x-python",
      "name": "python",
      "nbconvert_exporter": "python",
      "pygments_lexer": "ipython3",
      "version": "3.10.4"
    },
    "vscode": {
      "interpreter": {
        "hash": "b0dd2ac3bff73304043c93e21b5379bde3eddc0568fac62ee8a602cebc6deb6a"
      }
    }
  },
  "nbformat": 4,
  "nbformat_minor": 4
}
